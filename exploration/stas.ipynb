{
 "cells": [
  {
   "cell_type": "markdown",
   "metadata": {},
   "source": [
    "## Part 1: Imports & Load data"
   ]
  },
  {
   "cell_type": "code",
   "execution_count": 86,
   "metadata": {},
   "outputs": [],
   "source": [
    "#data science\n",
    "import pandas as pd \n",
    "import numpy as np\n",
    "import matplotlib.pyplot as plt\n",
    "import seaborn as sbn\n",
    "\n",
    "#general\n",
    "import zipfile\n",
    "import datetime as dt"
   ]
  },
  {
   "cell_type": "code",
   "execution_count": 3,
   "metadata": {},
   "outputs": [],
   "source": [
    "#unzip the files\n",
    "# with zipfile.ZipFile(\"../data/jpx-tokyo-stock-exchange-prediction.zip\",\"r\") as zip_ref:\n",
    "#     zip_ref.extractall(\"../data\")"
   ]
  },
  {
   "cell_type": "code",
   "execution_count": 300,
   "metadata": {},
   "outputs": [],
   "source": [
    "company_info = pd.read_csv('../data/stock_list.csv',low_memory=False)\n",
    "financials = pd.read_csv('../data/train_files/financials.csv',low_memory=False)\n",
    "options = pd.read_csv('../data/train_files/options.csv',low_memory=False)\n",
    "stock_prices = pd.read_csv('../data/train_files/stock_prices.csv',low_memory=False)\n",
    "secondary_stock_prices = pd.read_csv('../data/train_files/secondary_stock_prices.csv',low_memory=False)\n",
    "trades = pd.read_csv('../data/train_files/trades.csv',low_memory=False)"
   ]
  },
  {
   "cell_type": "code",
   "execution_count": null,
   "metadata": {},
   "outputs": [],
   "source": []
  },
  {
   "cell_type": "markdown",
   "metadata": {},
   "source": [
    "## Part 2: EDA"
   ]
  },
  {
   "cell_type": "code",
   "execution_count": 13,
   "metadata": {},
   "outputs": [
    {
     "name": "stdout",
     "output_type": "stream",
     "text": [
      "2000 JPX stocks available\n"
     ]
    }
   ],
   "source": [
    "stocks = stock_prices['SecuritiesCode'].unique().tolist()\n",
    "print(f'{len(stocks)} JPX stocks available')"
   ]
  },
  {
   "cell_type": "code",
   "execution_count": 166,
   "metadata": {},
   "outputs": [
    {
     "data": {
      "image/png": "[encoded data removed]",
      "text/plain": [
       "<Figure size 864x576 with 1 Axes>"
      ]
     },
     "metadata": {
      "needs_background": "light"
     },
     "output_type": "display_data"
    }
   ],
   "source": [
    "dates = stock_prices.groupby('Date').count().index.tolist()\n",
    "num_listed = stock_prices.groupby('Date').count()['RowId'].values.tolist()\n",
    "\n",
    "plt.figure(figsize=[12,8])\n",
    "plt.plot(num_listed)\n",
    "plt.xticks([0,1200],[dates[0],dates[-1]])\n",
    "plt.xlabel('Date')\n",
    "plt.ylabel('# of Stocks listed')\n",
    "plt.title('Data availability in the given period')\n",
    "plt.show()"
   ]
  },
  {
   "cell_type": "code",
   "execution_count": 79,
   "metadata": {},
   "outputs": [],
   "source": [
    "start_df = stock_prices[stock_prices['Date']==dates[0]][['SecuritiesCode','Close']].set_index('SecuritiesCode')\n",
    "end_df = stock_prices[(stock_prices['Date']==dates[-1])][['SecuritiesCode','Close']].set_index('SecuritiesCode')\n",
    "\n",
    "stocks_from_start = end_df.index.intersection(start_df.index)\n",
    "stocks_from_start_change = (((end_df.loc[stocks_from_start]-start_df.loc[stocks_from_start])/start_df.loc[stocks_from_start])*100).sort_values(by='Close',ascending=False)"
   ]
  },
  {
   "cell_type": "code",
   "execution_count": 167,
   "metadata": {},
   "outputs": [
    {
     "name": "stdout",
     "output_type": "stream",
     "text": [
      "1865 companies were listed from 2017-01-04 to 2021-12-03\n",
      "1065 stocks went UP in that period, 793 went DOWN\n",
      "0.57% was the average percentage change in stock price across 1865 companies\n"
     ]
    }
   ],
   "source": [
    "print(f'{stocks_from_start_change.shape[0]} companies were listed from {dates[0]} to {dates[-1]}')\n",
    "print(f'{(stocks_from_start_change>0).sum()[0]} stocks went UP in that period, {(stocks_from_start_change<=0).sum()[0]} went DOWN')\n",
    "print(f'{(stocks_from_start_change>0).mean()[0]:.2f}% was the average percentage change in stock price across {stocks_from_start_change.shape[0]} companies')"
   ]
  },
  {
   "cell_type": "code",
   "execution_count": null,
   "metadata": {},
   "outputs": [],
   "source": []
  },
  {
   "cell_type": "code",
   "execution_count": null,
   "metadata": {},
   "outputs": [],
   "source": []
  },
  {
   "cell_type": "code",
   "execution_count": null,
   "metadata": {},
   "outputs": [],
   "source": []
  },
  {
   "cell_type": "markdown",
   "metadata": {},
   "source": [
    "## Part 3: Split data"
   ]
  },
  {
   "cell_type": "code",
   "execution_count": null,
   "metadata": {},
   "outputs": [],
   "source": []
  },
  {
   "cell_type": "code",
   "execution_count": null,
   "metadata": {},
   "outputs": [],
   "source": []
  },
  {
   "cell_type": "code",
   "execution_count": null,
   "metadata": {},
   "outputs": [],
   "source": []
  },
  {
   "cell_type": "code",
   "execution_count": null,
   "metadata": {},
   "outputs": [],
   "source": []
  },
  {
   "cell_type": "markdown",
   "metadata": {},
   "source": [
    "## Part 4: Create baseline\n",
    "\n",
    "<b>Goal 1: Predict Target returns</b>\n",
    "<br>\n",
    "<b>Goal 2: Think about minimal volatility</b>"
   ]
  },
  {
   "cell_type": "code",
   "execution_count": null,
   "metadata": {},
   "outputs": [],
   "source": []
  },
  {
   "cell_type": "code",
   "execution_count": null,
   "metadata": {},
   "outputs": [],
   "source": []
  },
  {
   "cell_type": "markdown",
   "metadata": {},
   "source": [
    "### Sample submission"
   ]
  },
  {
   "cell_type": "code",
   "execution_count": 286,
   "metadata": {},
   "outputs": [],
   "source": [
    "sample_submission = pd.read_csv('../data/example_test_files/sample_submission.csv')"
   ]
  },
  {
   "cell_type": "markdown",
   "metadata": {},
   "source": [
    "### Define competition metric"
   ]
  },
  {
   "cell_type": "code",
   "execution_count": 261,
   "metadata": {},
   "outputs": [],
   "source": [
    "def calc_spread_return_sharpe(df,portfolio_size=200,toprank_weight_ratio=2):\n",
    "    \"\"\"\n",
    "    Args:\n",
    "        df (pd.DataFrame): predicted results\n",
    "        portfolio_size (int): # of equities to buy/sell\n",
    "        toprank_weight_ratio (float): the relative weight of the most highly ranked stock compared to the least.\n",
    "    Returns:\n",
    "        (float): sharpe ratio\n",
    "    \"\"\"\n",
    "    def _calc_spread_return_per_day(df, portfolio_size, toprank_weight_ratio):\n",
    "        \"\"\"\n",
    "        Args:\n",
    "            df (pd.DataFrame): predicted results\n",
    "            portfolio_size (int): # of equities to buy/sell\n",
    "            toprank_weight_ratio (float): the relative weight of the most highly ranked stock compared to the least.\n",
    "        Returns:\n",
    "            (float): spread return\n",
    "        \"\"\"\n",
    "        df['Rank'] = np.arange(0,2000,1)\n",
    "        assert df['Rank'].min() == 0\n",
    "        assert df['Rank'].max() == len(df['Rank']) - 1\n",
    "        weights = np.linspace(start=toprank_weight_ratio, stop=1, num=portfolio_size)\n",
    "        purchase = (df.sort_values(by='Rank')['Target'][:portfolio_size] * weights).sum() / weights.mean()\n",
    "        short = (df.sort_values(by='Rank', ascending=False)['Target'][:portfolio_size] * weights).sum() / weights.mean()\n",
    "        return purchase - short\n",
    "\n",
    "    buf = df.groupby('Date').apply(_calc_spread_return_per_day, portfolio_size, toprank_weight_ratio)\n",
    "    sharpe_ratio = buf.mean() / buf.std()\n",
    "    return sharpe_ratio"
   ]
  },
  {
   "cell_type": "code",
   "execution_count": null,
   "metadata": {},
   "outputs": [],
   "source": []
  },
  {
   "cell_type": "code",
   "execution_count": null,
   "metadata": {},
   "outputs": [],
   "source": []
  },
  {
   "cell_type": "markdown",
   "metadata": {},
   "source": [
    "### Baseline 1: Winners - Win, Loosers - Lose\n",
    "\n",
    "<p>Predictions need to be submitted by <b>July 5, 2022</b>, and <b>October 7, 2022</b> is the end of competition. Hence, we can backtest our prediction by going back the same number of working days from the last date available in the dataset</p>"
   ]
  },
  {
   "cell_type": "code",
   "execution_count": 95,
   "metadata": {},
   "outputs": [
    {
     "name": "stdout",
     "output_type": "stream",
     "text": [
      "68 is the number of working days between July 5, 2022 and October 7, 2022\n"
     ]
    }
   ],
   "source": [
    "start_comp = dt.date(2022,7,5)\n",
    "end_comp = dt.date(2022,10,7)\n",
    "\n",
    "working_days = np.busday_count(start_comp,end_comp)\n",
    "print(f'{working_days} is the number of working days between July 5, 2022 and October 7, 2022')"
   ]
  },
  {
   "cell_type": "code",
   "execution_count": 119,
   "metadata": {},
   "outputs": [
    {
     "name": "stdout",
     "output_type": "stream",
     "text": [
      "68 working days between August 31, 2021 and December 3, 2021\n"
     ]
    }
   ],
   "source": [
    "start_test = dt.date(2021,8,31)\n",
    "end_test = dates[-1].split('-')\n",
    "\n",
    "print(f'{np.busday_count(start_test,dt.date(int(end_test[0]),int(end_test[1]),int(end_test[2])))} working days between August 31, 2021 and December 3, 2021')"
   ]
  },
  {
   "cell_type": "code",
   "execution_count": 122,
   "metadata": {},
   "outputs": [],
   "source": [
    "start_test_df = stock_prices[stock_prices['Date']=='2021-08-31'].set_index('SecuritiesCode')[['Close']]\n",
    "end_test_df = stock_prices[stock_prices['Date']==dates[-1]].set_index('SecuritiesCode')[['Close']]"
   ]
  },
  {
   "cell_type": "code",
   "execution_count": 134,
   "metadata": {},
   "outputs": [],
   "source": [
    "stocks_to_test = stocks_from_start.intersection(start_test_df.index)"
   ]
  },
  {
   "cell_type": "code",
   "execution_count": 168,
   "metadata": {},
   "outputs": [],
   "source": [
    "stocks_to_long = ((start_test_df.loc[stocks_to_test]-start_df)/start_df).sort_values(by='Close',ascending=False).head(200).index\n",
    "stocks_to_short = ((start_test_df.loc[stocks_to_test]-start_df)/start_df).sort_values(by='Close',ascending=False).dropna().tail(200).index"
   ]
  },
  {
   "cell_type": "code",
   "execution_count": 169,
   "metadata": {},
   "outputs": [
    {
     "data": {
      "text/plain": [
       "Close   -0.048387\n",
       "dtype: float64"
      ]
     },
     "execution_count": 169,
     "metadata": {},
     "output_type": "execute_result"
    }
   ],
   "source": [
    "#long returns\n",
    "((end_test_df.loc[stocks_to_long]-start_test_df.loc[stocks_to_long])/start_test_df.loc[stocks_to_long]).sort_values(by='Close',ascending=False).mean()"
   ]
  },
  {
   "cell_type": "code",
   "execution_count": 164,
   "metadata": {},
   "outputs": [
    {
     "data": {
      "text/plain": [
       "Close    0.050868\n",
       "dtype: float64"
      ]
     },
     "execution_count": 164,
     "metadata": {},
     "output_type": "execute_result"
    }
   ],
   "source": [
    "-((end_test_df.loc[stocks_to_short]-start_test_df.loc[stocks_to_short])/start_test_df.loc[stocks_to_short]).sort_values(by='Close',ascending=False).mean()"
   ]
  },
  {
   "cell_type": "code",
   "execution_count": null,
   "metadata": {},
   "outputs": [],
   "source": []
  },
  {
   "cell_type": "markdown",
   "metadata": {},
   "source": [
    "## Part 5: Feature engineering"
   ]
  },
  {
   "cell_type": "markdown",
   "metadata": {},
   "source": [
    "### Price data"
   ]
  },
  {
   "cell_type": "code",
   "execution_count": 296,
   "metadata": {},
   "outputs": [],
   "source": [
    "stock_prices['Close-Open'] = (stock_prices['Close']-stock_prices['Open'])/(stock_prices['Open'])"
   ]
  },
  {
   "cell_type": "markdown",
   "metadata": {},
   "source": [
    "### Financials + General company info\n",
    "\n",
    "<b>Ideas:</b>\n",
    "\n",
    "<ul>\n",
    "    <li>Impact of being a part of an index?</li>\n",
    "    <li>Impact of industry? Inter-industry performance? Assign weights to industries to account for risk?</li>\n",
    "    <li>Impact of market segment?</li>\n",
    "    <li>Market capitalisation as a factor?</li>\n",
    "</ul>"
   ]
  },
  {
   "cell_type": "code",
   "execution_count": 318,
   "metadata": {},
   "outputs": [],
   "source": [
    "all_available_companies = end_df.index"
   ]
  },
  {
   "cell_type": "code",
   "execution_count": 324,
   "metadata": {},
   "outputs": [],
   "source": [
    "company_info = company_info[['SecuritiesCode','NewMarketSegment','MarketCapitalization','33SectorName']].set_index('SecuritiesCode')"
   ]
  },
  {
   "cell_type": "code",
   "execution_count": 326,
   "metadata": {},
   "outputs": [],
   "source": [
    "company_info_short = company_info.loc[all_available_companies]"
   ]
  },
  {
   "cell_type": "code",
   "execution_count": 328,
   "metadata": {},
   "outputs": [
    {
     "data": {
      "text/html": [
       "<div>\n",
       "<style scoped>\n",
       "    .dataframe tbody tr th:only-of-type {\n",
       "        vertical-align: middle;\n",
       "    }\n",
       "\n",
       "    .dataframe tbody tr th {\n",
       "        vertical-align: top;\n",
       "    }\n",
       "\n",
       "    .dataframe thead th {\n",
       "        text-align: right;\n",
       "    }\n",
       "</style>\n",
       "<table border=\"1\" class=\"dataframe\">\n",
       "  <thead>\n",
       "    <tr style=\"text-align: right;\">\n",
       "      <th></th>\n",
       "      <th>NewMarketSegment</th>\n",
       "      <th>MarketCapitalization</th>\n",
       "      <th>33SectorName</th>\n",
       "    </tr>\n",
       "    <tr>\n",
       "      <th>SecuritiesCode</th>\n",
       "      <th></th>\n",
       "      <th></th>\n",
       "      <th></th>\n",
       "    </tr>\n",
       "  </thead>\n",
       "  <tbody>\n",
       "    <tr>\n",
       "      <th>7203</th>\n",
       "      <td>Prime Market</td>\n",
       "      <td>3.435121e+13</td>\n",
       "      <td>Transportation Equipment</td>\n",
       "    </tr>\n",
       "    <tr>\n",
       "      <th>6758</th>\n",
       "      <td>Prime Market</td>\n",
       "      <td>1.825416e+13</td>\n",
       "      <td>Electric Appliances</td>\n",
       "    </tr>\n",
       "    <tr>\n",
       "      <th>6861</th>\n",
       "      <td>Prime Market</td>\n",
       "      <td>1.757905e+13</td>\n",
       "      <td>Electric Appliances</td>\n",
       "    </tr>\n",
       "    <tr>\n",
       "      <th>6098</th>\n",
       "      <td>Prime Market</td>\n",
       "      <td>1.182423e+13</td>\n",
       "      <td>Services</td>\n",
       "    </tr>\n",
       "    <tr>\n",
       "      <th>9432</th>\n",
       "      <td>Prime Market</td>\n",
       "      <td>1.140934e+13</td>\n",
       "      <td>Information &amp; Communication</td>\n",
       "    </tr>\n",
       "    <tr>\n",
       "      <th>...</th>\n",
       "      <td>...</td>\n",
       "      <td>...</td>\n",
       "      <td>...</td>\n",
       "    </tr>\n",
       "    <tr>\n",
       "      <th>8338</th>\n",
       "      <td>Prime Market</td>\n",
       "      <td>1.461201e+10</td>\n",
       "      <td>Banks</td>\n",
       "    </tr>\n",
       "    <tr>\n",
       "      <th>4847</th>\n",
       "      <td>Prime Market</td>\n",
       "      <td>1.459236e+10</td>\n",
       "      <td>Information &amp; Communication</td>\n",
       "    </tr>\n",
       "    <tr>\n",
       "      <th>6769</th>\n",
       "      <td>Standard Market</td>\n",
       "      <td>1.458600e+10</td>\n",
       "      <td>Electric Appliances</td>\n",
       "    </tr>\n",
       "    <tr>\n",
       "      <th>5951</th>\n",
       "      <td>Standard Market</td>\n",
       "      <td>1.454170e+10</td>\n",
       "      <td>Metal Products</td>\n",
       "    </tr>\n",
       "    <tr>\n",
       "      <th>7466</th>\n",
       "      <td>Prime Market</td>\n",
       "      <td>1.454124e+10</td>\n",
       "      <td>Wholesale Trade</td>\n",
       "    </tr>\n",
       "  </tbody>\n",
       "</table>\n",
       "<p>2000 rows × 3 columns</p>\n",
       "</div>"
      ],
      "text/plain": [
       "               NewMarketSegment  MarketCapitalization  \\\n",
       "SecuritiesCode                                          \n",
       "7203               Prime Market          3.435121e+13   \n",
       "6758               Prime Market          1.825416e+13   \n",
       "6861               Prime Market          1.757905e+13   \n",
       "6098               Prime Market          1.182423e+13   \n",
       "9432               Prime Market          1.140934e+13   \n",
       "...                         ...                   ...   \n",
       "8338               Prime Market          1.461201e+10   \n",
       "4847               Prime Market          1.459236e+10   \n",
       "6769            Standard Market          1.458600e+10   \n",
       "5951            Standard Market          1.454170e+10   \n",
       "7466               Prime Market          1.454124e+10   \n",
       "\n",
       "                               33SectorName  \n",
       "SecuritiesCode                               \n",
       "7203               Transportation Equipment  \n",
       "6758                    Electric Appliances  \n",
       "6861                    Electric Appliances  \n",
       "6098                               Services  \n",
       "9432            Information & Communication  \n",
       "...                                     ...  \n",
       "8338                                  Banks  \n",
       "4847            Information & Communication  \n",
       "6769                    Electric Appliances  \n",
       "5951                         Metal Products  \n",
       "7466                        Wholesale Trade  \n",
       "\n",
       "[2000 rows x 3 columns]"
      ]
     },
     "execution_count": 328,
     "metadata": {},
     "output_type": "execute_result"
    }
   ],
   "source": [
    "company_info_short.sort_values(by='MarketCapitalization',ascending=False)"
   ]
  },
  {
   "cell_type": "code",
   "execution_count": 331,
   "metadata": {},
   "outputs": [],
   "source": [
    "company_info_short.reset_index(inplace=True)"
   ]
  },
  {
   "cell_type": "code",
   "execution_count": 333,
   "metadata": {},
   "outputs": [
    {
     "data": {
      "text/html": [
       "<div>\n",
       "<style scoped>\n",
       "    .dataframe tbody tr th:only-of-type {\n",
       "        vertical-align: middle;\n",
       "    }\n",
       "\n",
       "    .dataframe tbody tr th {\n",
       "        vertical-align: top;\n",
       "    }\n",
       "\n",
       "    .dataframe thead th {\n",
       "        text-align: right;\n",
       "    }\n",
       "</style>\n",
       "<table border=\"1\" class=\"dataframe\">\n",
       "  <thead>\n",
       "    <tr style=\"text-align: right;\">\n",
       "      <th></th>\n",
       "      <th>SecuritiesCode</th>\n",
       "      <th>NewMarketSegment</th>\n",
       "      <th>MarketCapitalization</th>\n",
       "      <th>33SectorName</th>\n",
       "    </tr>\n",
       "  </thead>\n",
       "  <tbody>\n",
       "    <tr>\n",
       "      <th>0</th>\n",
       "      <td>6539</td>\n",
       "      <td>Prime Market</td>\n",
       "      <td>2.311186e+10</td>\n",
       "      <td>Services</td>\n",
       "    </tr>\n",
       "    <tr>\n",
       "      <th>1</th>\n",
       "      <td>3157</td>\n",
       "      <td>Standard Market</td>\n",
       "      <td>1.522636e+10</td>\n",
       "      <td>Wholesale Trade</td>\n",
       "    </tr>\n",
       "    <tr>\n",
       "      <th>2</th>\n",
       "      <td>4507</td>\n",
       "      <td>Prime Market</td>\n",
       "      <td>2.531638e+12</td>\n",
       "      <td>Pharmaceutical</td>\n",
       "    </tr>\n",
       "    <tr>\n",
       "      <th>3</th>\n",
       "      <td>6769</td>\n",
       "      <td>Standard Market</td>\n",
       "      <td>1.458600e+10</td>\n",
       "      <td>Electric Appliances</td>\n",
       "    </tr>\n",
       "    <tr>\n",
       "      <th>4</th>\n",
       "      <td>8198</td>\n",
       "      <td>Standard Market</td>\n",
       "      <td>1.006678e+11</td>\n",
       "      <td>Retail Trade</td>\n",
       "    </tr>\n",
       "    <tr>\n",
       "      <th>...</th>\n",
       "      <td>...</td>\n",
       "      <td>...</td>\n",
       "      <td>...</td>\n",
       "      <td>...</td>\n",
       "    </tr>\n",
       "    <tr>\n",
       "      <th>1995</th>\n",
       "      <td>5741</td>\n",
       "      <td>Prime Market</td>\n",
       "      <td>1.285047e+11</td>\n",
       "      <td>Nonferrous Metals</td>\n",
       "    </tr>\n",
       "    <tr>\n",
       "      <th>1996</th>\n",
       "      <td>7956</td>\n",
       "      <td>Prime Market</td>\n",
       "      <td>2.673944e+11</td>\n",
       "      <td>Other Products</td>\n",
       "    </tr>\n",
       "    <tr>\n",
       "      <th>1997</th>\n",
       "      <td>6035</td>\n",
       "      <td>Prime Market</td>\n",
       "      <td>1.225588e+11</td>\n",
       "      <td>Services</td>\n",
       "    </tr>\n",
       "    <tr>\n",
       "      <th>1998</th>\n",
       "      <td>6082</td>\n",
       "      <td>Prime Market</td>\n",
       "      <td>1.797430e+10</td>\n",
       "      <td>Services</td>\n",
       "    </tr>\n",
       "    <tr>\n",
       "      <th>1999</th>\n",
       "      <td>6418</td>\n",
       "      <td>Prime Market</td>\n",
       "      <td>2.008175e+10</td>\n",
       "      <td>Machinery</td>\n",
       "    </tr>\n",
       "  </tbody>\n",
       "</table>\n",
       "<p>2000 rows × 4 columns</p>\n",
       "</div>"
      ],
      "text/plain": [
       "      SecuritiesCode NewMarketSegment  MarketCapitalization  \\\n",
       "0               6539     Prime Market          2.311186e+10   \n",
       "1               3157  Standard Market          1.522636e+10   \n",
       "2               4507     Prime Market          2.531638e+12   \n",
       "3               6769  Standard Market          1.458600e+10   \n",
       "4               8198  Standard Market          1.006678e+11   \n",
       "...              ...              ...                   ...   \n",
       "1995            5741     Prime Market          1.285047e+11   \n",
       "1996            7956     Prime Market          2.673944e+11   \n",
       "1997            6035     Prime Market          1.225588e+11   \n",
       "1998            6082     Prime Market          1.797430e+10   \n",
       "1999            6418     Prime Market          2.008175e+10   \n",
       "\n",
       "             33SectorName  \n",
       "0                Services  \n",
       "1         Wholesale Trade  \n",
       "2          Pharmaceutical  \n",
       "3     Electric Appliances  \n",
       "4            Retail Trade  \n",
       "...                   ...  \n",
       "1995    Nonferrous Metals  \n",
       "1996       Other Products  \n",
       "1997             Services  \n",
       "1998             Services  \n",
       "1999            Machinery  \n",
       "\n",
       "[2000 rows x 4 columns]"
      ]
     },
     "execution_count": 333,
     "metadata": {},
     "output_type": "execute_result"
    }
   ],
   "source": [
    "company_info_short"
   ]
  },
  {
   "cell_type": "code",
   "execution_count": null,
   "metadata": {},
   "outputs": [],
   "source": []
  }
 ],
 "metadata": {
  "interpreter": {
   "hash": "c84568242e095be8325e2c1202b4124ebd251e98951cb5b1e479025e6b7120ed"
  },
  "kernelspec": {
   "display_name": "Python 3.9.7 ('base')",
   "language": "python",
   "name": "python3"
  },
  "language_info": {
   "codemirror_mode": {
    "name": "ipython",
    "version": 3
   },
   "file_extension": ".py",
   "mimetype": "text/x-python",
   "name": "python",
   "nbconvert_exporter": "python",
   "pygments_lexer": "ipython3",
   "version": "3.9.7"
  },
  "orig_nbformat": 4
 },
 "nbformat": 4,
 "nbformat_minor": 2
}
